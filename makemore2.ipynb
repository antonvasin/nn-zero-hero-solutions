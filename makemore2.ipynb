{
 "cells": [
  {
   "cell_type": "code",
   "execution_count": 1,
   "id": "8a344b85-915a-42f7-8fb6-8b73990d0be8",
   "metadata": {
    "tags": []
   },
   "outputs": [],
   "source": [
    "import torch\n",
    "import torch.nn.functional as F\n",
    "import matplotlib.pyplot as plt\n",
    "%matplotlib inline"
   ]
  },
  {
   "cell_type": "code",
   "execution_count": 5,
   "id": "8041645a-d221-4fb7-adee-3c3035429203",
   "metadata": {
    "tags": []
   },
   "outputs": [],
   "source": [
    "words = open('names.txt', 'r').read().splitlines()\n",
    "chars = sorted(list(set(''.join(words))))\n",
    "stoi = {s:i+1 for i,s in enumerate(chars)}\n",
    "stoi['.'] = 0\n",
    "itos = {i:s for s,i in stoi.items()}"
   ]
  },
  {
   "cell_type": "code",
   "execution_count": 6,
   "id": "d3c7009d-c48d-4a4e-81f9-dac3c9be0a19",
   "metadata": {
    "tags": []
   },
   "outputs": [
    {
     "name": "stdout",
     "output_type": "stream",
     "text": [
      "emma\n",
      "... ---> e\n",
      "... ---> m\n",
      "... ---> m\n",
      "... ---> a\n",
      "... ---> .\n",
      "olivia\n",
      "... ---> o\n",
      "... ---> l\n",
      "... ---> i\n",
      "... ---> v\n",
      "... ---> i\n",
      "... ---> a\n",
      "... ---> .\n",
      "ava\n",
      "... ---> a\n",
      "... ---> v\n",
      "... ---> a\n",
      "... ---> .\n",
      "isabella\n",
      "... ---> i\n",
      "... ---> s\n",
      "... ---> a\n",
      "... ---> b\n",
      "... ---> e\n",
      "... ---> l\n",
      "... ---> l\n",
      "... ---> a\n",
      "... ---> .\n",
      "sophia\n",
      "... ---> s\n",
      "... ---> o\n",
      "... ---> p\n",
      "... ---> h\n",
      "... ---> i\n",
      "... ---> a\n",
      "... ---> .\n"
     ]
    }
   ],
   "source": [
    "# how many characters to take to make prediction\n",
    "block_size = 3\n",
    "X, Y = [], []\n",
    "\n",
    "# build trigram training set\n",
    "for w in words[:5]:\n",
    "  print(w)\n",
    "  context = [0] * block_size\n",
    "  for ch in w + '.':\n",
    "    ix = stoi[ch]\n",
    "    X.append(context)\n",
    "    Y.append(ix)\n",
    "    print(''.join(itos[i] for i in context), '--->', itos[ix])\n",
    "    contxt = context[1:] + [ix] # crop and append\n",
    "    \n",
    "X = torch.tensor(X)\n",
    "Y = torch.tensor(Y)"
   ]
  },
  {
   "cell_type": "code",
   "execution_count": null,
   "id": "b046fe6a-b97a-48ea-8127-ab630b88a675",
   "metadata": {},
   "outputs": [],
   "source": []
  }
 ],
 "metadata": {
  "kernelspec": {
   "display_name": "Python 3 (ipykernel)",
   "language": "python",
   "name": "python3"
  },
  "language_info": {
   "codemirror_mode": {
    "name": "ipython",
    "version": 3
   },
   "file_extension": ".py",
   "mimetype": "text/x-python",
   "name": "python",
   "nbconvert_exporter": "python",
   "pygments_lexer": "ipython3",
   "version": "3.10.10"
  }
 },
 "nbformat": 4,
 "nbformat_minor": 5
}
