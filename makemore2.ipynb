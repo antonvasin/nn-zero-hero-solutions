{
 "cells": [
  {
   "cell_type": "code",
   "execution_count": 42,
   "id": "8a344b85-915a-42f7-8fb6-8b73990d0be8",
   "metadata": {
    "tags": []
   },
   "outputs": [],
   "source": [
    "import torch\n",
    "import torch.nn.functional as F\n",
    "import matplotlib.pyplot as plt\n",
    "%matplotlib inline"
   ]
  },
  {
   "cell_type": "code",
   "execution_count": 43,
   "id": "8041645a-d221-4fb7-adee-3c3035429203",
   "metadata": {
    "tags": []
   },
   "outputs": [],
   "source": [
    "words = open('names.txt', 'r').read().splitlines()\n",
    "chars = sorted(list(set(''.join(words))))\n",
    "stoi = {s:i+1 for i,s in enumerate(chars)}\n",
    "stoi['.'] = 0\n",
    "itos = {i:s for s,i in stoi.items()}"
   ]
  },
  {
   "cell_type": "code",
   "execution_count": 63,
   "id": "d3c7009d-c48d-4a4e-81f9-dac3c9be0a19",
   "metadata": {
    "tags": []
   },
   "outputs": [],
   "source": [
    "# how many characters to take to make prediction\n",
    "block_size = 3\n",
    "X, Y = [], []\n",
    "\n",
    "# build trigram training set\n",
    "for w in words[:5]:\n",
    "  #print(w)\n",
    "  context = [0] * block_size\n",
    "  for ch in w + '.':\n",
    "    ix = stoi[ch]\n",
    "    X.append(context)\n",
    "    Y.append(ix)\n",
    "    #print(''.join(itos[i] for i in context), '--->', itos[ix])\n",
    "    context = context[1:] + [ix] # crop and append\n",
    "    \n",
    "X = torch.tensor(X)\n",
    "Y = torch.tensor(Y)"
   ]
  },
  {
   "cell_type": "code",
   "execution_count": 64,
   "id": "3c68d645-d3b2-47aa-b4d9-f3efddaab01e",
   "metadata": {
    "tags": []
   },
   "outputs": [
    {
     "data": {
      "text/plain": [
       "(torch.Size([32, 3]), torch.int64, torch.Size([32]), torch.int64)"
      ]
     },
     "execution_count": 64,
     "metadata": {},
     "output_type": "execute_result"
    }
   ],
   "source": [
    "X.shape, X.dtype, Y.shape, Y.dtype"
   ]
  },
  {
   "cell_type": "markdown",
   "id": "c0a26cf6-051c-4fb4-ab8a-5018de5726ce",
   "metadata": {},
   "source": [
    "## Build embeding lookup table C"
   ]
  },
  {
   "cell_type": "code",
   "execution_count": 65,
   "id": "758be464-f38f-43be-83b9-5f8a59fe9378",
   "metadata": {
    "tags": []
   },
   "outputs": [],
   "source": [
    "C = torch.randn((27, 2))"
   ]
  },
  {
   "cell_type": "markdown",
   "id": "9a463466-d233-46ca-b29a-3fdf232425ca",
   "metadata": {},
   "source": [
    "Indexing into C:"
   ]
  },
  {
   "cell_type": "code",
   "execution_count": 66,
   "id": "e1da9686-6cef-4613-b2cd-19206d7a3f28",
   "metadata": {
    "tags": []
   },
   "outputs": [
    {
     "data": {
      "text/plain": [
       "tensor([0.6976, 1.6100])"
      ]
     },
     "execution_count": 66,
     "metadata": {},
     "output_type": "execute_result"
    }
   ],
   "source": [
    "C[5]"
   ]
  },
  {
   "cell_type": "code",
   "execution_count": 67,
   "id": "a14852f3-8e3b-41fe-8d26-422975aa24fc",
   "metadata": {
    "tags": []
   },
   "outputs": [
    {
     "data": {
      "text/plain": [
       "torch.Size([32, 3, 2])"
      ]
     },
     "execution_count": 67,
     "metadata": {},
     "output_type": "execute_result"
    }
   ],
   "source": [
    "emb = C[X]\n",
    "emb.shape"
   ]
  },
  {
   "cell_type": "markdown",
   "id": "4617c5c4-67a4-4071-8841-5a33d0ce6063",
   "metadata": {},
   "source": [
    "## Implementing Hidden Layer"
   ]
  },
  {
   "cell_type": "code",
   "execution_count": 68,
   "id": "da8617dd-7313-4220-a520-8fab8d3e0b41",
   "metadata": {
    "tags": []
   },
   "outputs": [],
   "source": [
    "W1 = torch.randn((6,100))\n",
    "b1 = torch.randn(100)"
   ]
  },
  {
   "cell_type": "markdown",
   "id": "86c03a4e-186b-4fa5-aef1-6610c8347b0a",
   "metadata": {},
   "source": [
    "Using `torch.cat` to concat embedings into 32x6 size"
   ]
  },
  {
   "cell_type": "code",
   "execution_count": 69,
   "id": "4e76ee51-b0cc-4a1c-82c7-3dea4bf8a8b2",
   "metadata": {
    "tags": []
   },
   "outputs": [
    {
     "data": {
      "text/plain": [
       "torch.Size([32, 6])"
      ]
     },
     "execution_count": 69,
     "metadata": {},
     "output_type": "execute_result"
    }
   ],
   "source": [
    "torch.cat([emb[:, 0, :], emb[:, 1, :], emb[: ,2, :]], 1).shape"
   ]
  },
  {
   "cell_type": "code",
   "execution_count": 70,
   "id": "c5788a65-bfae-462c-8b31-bcae600e1a2b",
   "metadata": {
    "tags": []
   },
   "outputs": [
    {
     "data": {
      "text/plain": [
       "torch.Size([32, 6])"
      ]
     },
     "execution_count": 70,
     "metadata": {},
     "output_type": "execute_result"
    }
   ],
   "source": [
    "torch.cat(torch.unbind(emb, 1), 1).shape"
   ]
  },
  {
   "cell_type": "markdown",
   "id": "38694ffc-81b3-4486-8e8e-097d0bf6de87",
   "metadata": {},
   "source": [
    "We can represent any tensor as any sized tensor since it's stored as a vector"
   ]
  },
  {
   "cell_type": "code",
   "execution_count": 71,
   "id": "0328077d-9dba-41fe-9f94-067b00689e8e",
   "metadata": {
    "tags": []
   },
   "outputs": [
    {
     "data": {
      "text/plain": [
       "tensor([ 0,  1,  2,  3,  4,  5,  6,  7,  8,  9, 10, 11, 12, 13, 14, 15, 16, 17])"
      ]
     },
     "execution_count": 71,
     "metadata": {},
     "output_type": "execute_result"
    }
   ],
   "source": [
    "a = torch.arange(18)\n",
    "a"
   ]
  },
  {
   "cell_type": "code",
   "execution_count": 72,
   "id": "0bf5d8d0-e06d-4b13-a147-2d71c219d3c7",
   "metadata": {
    "tags": []
   },
   "outputs": [
    {
     "data": {
      "text/plain": [
       "torch.Size([18])"
      ]
     },
     "execution_count": 72,
     "metadata": {},
     "output_type": "execute_result"
    }
   ],
   "source": [
    "a.shape"
   ]
  },
  {
   "cell_type": "code",
   "execution_count": 73,
   "id": "7113b555-5493-488a-ac39-6d12716a1a95",
   "metadata": {
    "tags": []
   },
   "outputs": [
    {
     "data": {
      "text/plain": [
       "tensor([[ 0,  1],\n",
       "        [ 2,  3],\n",
       "        [ 4,  5],\n",
       "        [ 6,  7],\n",
       "        [ 8,  9],\n",
       "        [10, 11],\n",
       "        [12, 13],\n",
       "        [14, 15],\n",
       "        [16, 17]])"
      ]
     },
     "execution_count": 73,
     "metadata": {},
     "output_type": "execute_result"
    }
   ],
   "source": [
    "a.view(9, 2)"
   ]
  },
  {
   "cell_type": "code",
   "execution_count": 74,
   "id": "a8363fc9-c44c-42c7-a3db-71ef7bdff8cf",
   "metadata": {
    "tags": []
   },
   "outputs": [
    {
     "data": {
      "text/plain": [
       "torch.Size([3, 3, 2])"
      ]
     },
     "execution_count": 74,
     "metadata": {},
     "output_type": "execute_result"
    }
   ],
   "source": [
    "a.view(3,3,2).shape"
   ]
  },
  {
   "cell_type": "code",
   "execution_count": 76,
   "id": "df3e9482-16f3-4d2f-b586-971b047511ab",
   "metadata": {
    "tags": []
   },
   "outputs": [
    {
     "data": {
      "text/plain": [
       "torch.Size([32, 6])"
      ]
     },
     "execution_count": 76,
     "metadata": {},
     "output_type": "execute_result"
    }
   ],
   "source": [
    "emb.view(32, 6).shape"
   ]
  },
  {
   "cell_type": "markdown",
   "id": "970a0b41-8897-4b24-b242-27fc75f66838",
   "metadata": {},
   "source": [
    "*`emb.view(-1 ,6)` infers the size of `emb` instead of hardcoding `32`.*\n",
    "\n",
    "Thus hidden layer is following:"
   ]
  },
  {
   "cell_type": "code",
   "execution_count": 118,
   "id": "d77958b8-eea8-43a6-b633-eab2596ec9eb",
   "metadata": {
    "tags": []
   },
   "outputs": [
    {
     "data": {
      "text/plain": [
       "tensor([[-0.9932,  1.0000,  0.9707,  ...,  0.9844,  1.0000,  0.7849],\n",
       "        [-0.8994,  0.9988, -0.9893,  ...,  0.9939, -0.9990,  0.9927],\n",
       "        [-0.9092,  1.0000,  0.9883,  ...,  0.9440,  0.0186,  1.0000],\n",
       "        ...,\n",
       "        [-0.2630,  0.9998,  0.8147,  ...,  0.9728,  0.9243,  1.0000],\n",
       "        [-0.9788,  1.0000,  0.9960,  ...,  0.5332,  0.9648,  1.0000],\n",
       "        [-0.2630,  0.9998,  0.8147,  ...,  0.9728,  0.9243,  1.0000]],\n",
       "       grad_fn=<TanhBackward0>)"
      ]
     },
     "execution_count": 118,
     "metadata": {},
     "output_type": "execute_result"
    }
   ],
   "source": [
    "h = torch.tanh(emb.view(-1, 6) @ W1 + b1)\n",
    "h"
   ]
  },
  {
   "cell_type": "markdown",
   "id": "01b048a4-64d6-4cc0-8521-d91ef0ca72d7",
   "metadata": {},
   "source": [
    "## The Output Layer"
   ]
  },
  {
   "cell_type": "code",
   "execution_count": 119,
   "id": "98c8be1c-43ad-43b5-8e17-c64b0e42aff2",
   "metadata": {
    "tags": []
   },
   "outputs": [],
   "source": [
    "W2 = torch.randn((100, 27))\n",
    "b2 = torch.randn(27)"
   ]
  },
  {
   "cell_type": "code",
   "execution_count": 120,
   "id": "8a0bd749-9683-4bc1-908d-e4cdcb56ab89",
   "metadata": {
    "tags": []
   },
   "outputs": [],
   "source": [
    "logits = h @ W2 + b2\n",
    "counts = logits.exp()\n",
    "prob = counts / counts.sum(1, keepdims=True)"
   ]
  },
  {
   "cell_type": "code",
   "execution_count": 121,
   "id": "e4e380ea-834e-4605-93ac-f63ded53d8e5",
   "metadata": {
    "tags": []
   },
   "outputs": [
    {
     "data": {
      "text/plain": [
       "torch.Size([32, 27])"
      ]
     },
     "execution_count": 121,
     "metadata": {},
     "output_type": "execute_result"
    }
   ],
   "source": [
    "prob.shape"
   ]
  },
  {
   "cell_type": "code",
   "execution_count": 122,
   "id": "35dbb8ec-f9af-40f9-96df-5a107f96c7ca",
   "metadata": {
    "tags": []
   },
   "outputs": [
    {
     "data": {
      "text/plain": [
       "tensor(19.7385, grad_fn=<NegBackward0>)"
      ]
     },
     "execution_count": 122,
     "metadata": {},
     "output_type": "execute_result"
    }
   ],
   "source": [
    "loss = -prob[torch.arange(32), Y].log().mean()\n",
    "loss"
   ]
  },
  {
   "cell_type": "markdown",
   "id": "7c922a46-53f4-44b6-8c41-6242902bd286",
   "metadata": {},
   "source": [
    "### Putting Together"
   ]
  },
  {
   "cell_type": "code",
   "execution_count": 123,
   "id": "7b2d240c-b646-4d6b-8032-bdc8248fca9c",
   "metadata": {
    "tags": []
   },
   "outputs": [],
   "source": [
    "g = torch.Generator().manual_seed(2147483647) # for reproducibility\n",
    "C = torch.randn((27, 2), generator=g)\n",
    "W1 = torch.randn((6, 100), generator=g)\n",
    "b1 = torch.randn(100, generator=g)\n",
    "W2 = torch.randn((100, 27), generator=g)\n",
    "b2 = torch.randn(27, generator=g)\n",
    "parameters = [C, W1, b1, W2, b2]"
   ]
  },
  {
   "cell_type": "code",
   "execution_count": 124,
   "id": "12332f53-3a81-45ec-a461-3ec235cb5449",
   "metadata": {
    "tags": []
   },
   "outputs": [
    {
     "data": {
      "text/plain": [
       "3481"
      ]
     },
     "execution_count": 124,
     "metadata": {},
     "output_type": "execute_result"
    }
   ],
   "source": [
    "sum(p.nelement() for p in parameters)"
   ]
  },
  {
   "cell_type": "markdown",
   "id": "27cff99e-b9e0-4cf7-b6f5-1dd9f8ad7e80",
   "metadata": {
    "tags": []
   },
   "source": [
    "## Training"
   ]
  },
  {
   "cell_type": "code",
   "execution_count": 125,
   "id": "024aeceb-df53-45cc-9582-4eb123b595e4",
   "metadata": {
    "tags": []
   },
   "outputs": [],
   "source": [
    "for p in parameters:\n",
    "  p.requires_grad = True"
   ]
  },
  {
   "cell_type": "code",
   "execution_count": 126,
   "id": "349ccc5a-89eb-4824-990d-b02a2f9a3051",
   "metadata": {
    "tags": []
   },
   "outputs": [],
   "source": [
    "lre = torch.linspace(-3, 0, 1000)\n",
    "lrs = 10**lre"
   ]
  },
  {
   "cell_type": "code",
   "execution_count": 127,
   "id": "82e55819-79a7-4bd4-98a4-be02ee6a072b",
   "metadata": {
    "tags": []
   },
   "outputs": [
    {
     "name": "stdout",
     "output_type": "stream",
     "text": [
      "0.27182888984680176\n"
     ]
    }
   ],
   "source": [
    "lri = []\n",
    "lossi = []\n",
    "\n",
    "for i in range(10000):\n",
    "  # minibatch construction\n",
    "  ix = torch.randint(0, X.shape[0], (32,))\n",
    "  \n",
    "  # Forward pass\n",
    "  emb = C[X[ix]]\n",
    "  h = torch.tanh(emb.view(-1, 6) @ W1 + b1)\n",
    "  logits = h @ W2 + b2\n",
    "  loss = F.cross_entropy(logits, Y[ix])\n",
    "  #print(loss.item())\n",
    "\n",
    "  # Backward pass\n",
    "  for p in parameters:\n",
    "    p.grad = None\n",
    "  loss.backward()\n",
    "\n",
    "  # Update\n",
    "  lr = 0.01\n",
    "  for p in parameters:\n",
    "    p.data += -lr * p.grad\n",
    "    \n",
    "  # track\n",
    "  #lri.append(lre[i])\n",
    "  #lossi.append(loss.item())\n",
    "    \n",
    "print(loss.item())"
   ]
  },
  {
   "cell_type": "markdown",
   "id": "3538fbba-2421-44e1-9db7-fa74d36a1277",
   "metadata": {},
   "source": [
    "We can introduce batching to not to iterate over all the examples every time. Iterate over small batch and move to another.\n",
    "\n",
    "The quality of gradient is lower that way. So the direction is not reliable but good enough. It's better to have approx direction and take more steps than trying to get more precise graient with fewer steps."
   ]
  },
  {
   "cell_type": "code",
   "execution_count": 99,
   "id": "6f3dedb8-9c92-4300-87c4-487103bef884",
   "metadata": {
    "tags": []
   },
   "outputs": [
    {
     "data": {
      "text/plain": [
       "tensor(2.7486, grad_fn=<NllLossBackward0>)"
      ]
     },
     "execution_count": 99,
     "metadata": {},
     "output_type": "execute_result"
    }
   ],
   "source": [
    "emb = C[X]\n",
    "h = torch.tanh(emb.view(-1, 6) @ W1 + b1)\n",
    "logits = h @ W2 + b2\n",
    "loss = F.cross_entropy(logits, Y)\n",
    "loss"
   ]
  },
  {
   "cell_type": "markdown",
   "id": "32ca0c8c-e81f-4728-87e2-dded49eed4fd",
   "metadata": {
    "tags": []
   },
   "source": [
    "## Learning Rate"
   ]
  },
  {
   "cell_type": "markdown",
   "id": "bdd2cc88-638e-49d1-9777-e30ef813c5c3",
   "metadata": {},
   "source": [
    "How can we determine the learning speed (`+= -0.1`)?"
   ]
  },
  {
   "cell_type": "code",
   "execution_count": 116,
   "id": "892a5ba9-695b-4c57-87f0-7e11f92df307",
   "metadata": {
    "tags": []
   },
   "outputs": [],
   "source": [
    "# Learning Rate Exponent\n",
    "lre = torch.linspace(0.001, 1, 1000)\n",
    "lrs = 10**lre"
   ]
  },
  {
   "cell_type": "code",
   "execution_count": 117,
   "id": "cc0bd490-f144-4d7b-acbf-82b113832b8e",
   "metadata": {
    "tags": []
   },
   "outputs": [
    {
     "data": {
      "text/plain": [
       "[<matplotlib.lines.Line2D at 0x7fc39a700220>]"
      ]
     },
     "execution_count": 117,
     "metadata": {},
     "output_type": "execute_result"
    },
    {
     "data": {
      "image/png": "[encoded data removed]",
      "text/plain": [
       "<Figure size 640x480 with 1 Axes>"
      ]
     },
     "metadata": {},
     "output_type": "display_data"
    }
   ],
   "source": [
    "plt.plot(lri, lossi)"
   ]
  },
  {
   "cell_type": "markdown",
   "id": "d4d43630-b1d9-4926-a371-884f0c14dbb1",
   "metadata": {},
   "source": [
    "## Dataset Splits"
   ]
  },
  {
   "cell_type": "code",
   "execution_count": 100,
   "id": "cb0a6000-3bb3-427c-b297-0408dd53d0ac",
   "metadata": {
    "tags": []
   },
   "outputs": [
    {
     "name": "stdout",
     "output_type": "stream",
     "text": [
      "torch.Size([182625, 3]) torch.Size([182625])\n",
      "torch.Size([22655, 3]) torch.Size([22655])\n",
      "torch.Size([22866, 3]) torch.Size([22866])\n"
     ]
    }
   ],
   "source": [
    "# build the dataset\n",
    "block_size = 3 # context length: how many characters do we take to predict the next one?\n",
    "\n",
    "def build_dataset(words):  \n",
    "  X, Y = [], []\n",
    "  for w in words:\n",
    "\n",
    "    #print(w)\n",
    "    context = [0] * block_size\n",
    "    for ch in w + '.':\n",
    "      ix = stoi[ch]\n",
    "      X.append(context)\n",
    "      Y.append(ix)\n",
    "      #print(''.join(itos[i] for i in context), '--->', itos[ix])\n",
    "      context = context[1:] + [ix] # crop and append\n",
    "\n",
    "  X = torch.tensor(X)\n",
    "  Y = torch.tensor(Y)\n",
    "  print(X.shape, Y.shape)\n",
    "  return X, Y\n",
    "\n",
    "import random\n",
    "random.seed(42)\n",
    "random.shuffle(words)\n",
    "n1 = int(0.8*len(words))\n",
    "n2 = int(0.9*len(words))\n",
    "\n",
    "Xtr, Ytr = build_dataset(words[:n1])\n",
    "Xdev, Ydev = build_dataset(words[n1:n2])\n",
    "Xte, Yte = build_dataset(words[n2:])"
   ]
  },
  {
   "cell_type": "code",
   "execution_count": 101,
   "id": "3e760269-ae6b-47ec-a464-c5f8c5e71d5f",
   "metadata": {
    "tags": []
   },
   "outputs": [
    {
     "data": {
      "text/plain": [
       "25626"
      ]
     },
     "execution_count": 101,
     "metadata": {},
     "output_type": "execute_result"
    }
   ],
   "source": [
    "n1"
   ]
  },
  {
   "cell_type": "code",
   "execution_count": 102,
   "id": "28291fc1-d138-4ec7-8921-a810a194cfda",
   "metadata": {
    "tags": []
   },
   "outputs": [
    {
     "data": {
      "text/plain": [
       "28829"
      ]
     },
     "execution_count": 102,
     "metadata": {},
     "output_type": "execute_result"
    }
   ],
   "source": [
    "n2"
   ]
  },
  {
   "cell_type": "code",
   "execution_count": 103,
   "id": "c9b8b1fd-fccd-4259-80e1-dbfc3b3b790f",
   "metadata": {
    "tags": []
   },
   "outputs": [
    {
     "data": {
      "text/plain": [
       "3203"
      ]
     },
     "execution_count": 103,
     "metadata": {},
     "output_type": "execute_result"
    }
   ],
   "source": [
    "n2 - n1 # dev examples"
   ]
  },
  {
   "cell_type": "code",
   "execution_count": 104,
   "id": "0f2cdf1e-4940-46a4-b7c9-17cd182e36ce",
   "metadata": {
    "tags": []
   },
   "outputs": [
    {
     "data": {
      "text/plain": [
       "3204"
      ]
     },
     "execution_count": 104,
     "metadata": {},
     "output_type": "execute_result"
    }
   ],
   "source": [
    "len(words) - n2 # test examples"
   ]
  },
  {
   "cell_type": "markdown",
   "id": "66ea9ac6-b005-428a-b196-320836084ea3",
   "metadata": {},
   "source": [
    "## Update Training and Evaluation With Splits"
   ]
  },
  {
   "cell_type": "code",
   "execution_count": 168,
   "id": "1d5125d6-8447-4a77-a15a-8b4b90d6c678",
   "metadata": {},
   "outputs": [],
   "source": [
    "g = torch.Generator().manual_seed(2147483647) # for reproducibility\n",
    "C = torch.randn((27, 10), generator=g)\n",
    "W1 = torch.randn((30, 200), generator=g)\n",
    "b1 = torch.randn(200, generator=g)\n",
    "W2 = torch.randn((200, 27), generator=g)\n",
    "b2 = torch.randn(27, generator=g)\n",
    "parameters = [C, W1, b1, W2, b2]"
   ]
  },
  {
   "cell_type": "code",
   "execution_count": 169,
   "id": "d99567a5-9c9c-4ba5-a2ea-c27da4d4b7ac",
   "metadata": {
    "tags": []
   },
   "outputs": [
    {
     "data": {
      "text/plain": [
       "11897"
      ]
     },
     "execution_count": 169,
     "metadata": {},
     "output_type": "execute_result"
    }
   ],
   "source": [
    "sum(p.nelement() for p in parameters)"
   ]
  },
  {
   "cell_type": "code",
   "execution_count": 170,
   "id": "11696eba-2f1c-4c47-aa02-f1a3f3d69fd9",
   "metadata": {
    "tags": []
   },
   "outputs": [],
   "source": [
    "for p in parameters:\n",
    "  p.requires_grad = True"
   ]
  },
  {
   "cell_type": "code",
   "execution_count": 171,
   "id": "4936e852-774f-4d86-8dfc-86a9785a6760",
   "metadata": {
    "tags": []
   },
   "outputs": [],
   "source": [
    "lre = torch.linspace(-3, 0, 1000)\n",
    "lrs = 10**lre"
   ]
  },
  {
   "cell_type": "markdown",
   "id": "1ca618d2-91d5-4082-9eb0-b265f17a4d5b",
   "metadata": {},
   "source": [
    "Train on \"train\" dataset"
   ]
  },
  {
   "cell_type": "code",
   "execution_count": 172,
   "id": "86a51fba-68a2-44f8-9f67-0d00bdbfcce8",
   "metadata": {
    "tags": []
   },
   "outputs": [],
   "source": [
    "lri = []\n",
    "lossi = []\n",
    "stepi = []"
   ]
  },
  {
   "cell_type": "code",
   "execution_count": 185,
   "id": "c8dee29b-93d0-4bd2-adcc-3f41e733d5c4",
   "metadata": {
    "tags": []
   },
   "outputs": [],
   "source": [
    "for i in range(200000):\n",
    "  # minibatch construction\n",
    "  ix = torch.randint(0, Xtr.shape[0], (32,))\n",
    "  \n",
    "  # Forward pass\n",
    "  emb = C[Xtr[ix]]\n",
    "  h = torch.tanh(emb.view(-1, 30) @ W1 + b1)\n",
    "  logits = h @ W2 + b2\n",
    "  loss = F.cross_entropy(logits, Ytr[ix])\n",
    "  #print(loss.item())\n",
    "\n",
    "  # Backward pass\n",
    "  for p in parameters:\n",
    "    p.grad = None\n",
    "  loss.backward()\n",
    "\n",
    "  # Update\n",
    "  lr = 0.1 if i < 1000000 else 0.01\n",
    "  for p in parameters:\n",
    "    p.data += -lr * p.grad\n",
    "    \n",
    "  # track\n",
    "  #lri.append(lre[i])\n",
    "  stepi.append(i)\n",
    "  lossi.append(loss.log10().item())\n",
    "    \n",
    "#print(loss.item())"
   ]
  },
  {
   "cell_type": "code",
   "execution_count": 186,
   "id": "c262e780-d536-4534-8637-ac3ca020530a",
   "metadata": {
    "tags": []
   },
   "outputs": [
    {
     "data": {
      "text/plain": [
       "[<matplotlib.lines.Line2D at 0x7fc39832f6d0>]"
      ]
     },
     "execution_count": 186,
     "metadata": {},
     "output_type": "execute_result"
    },
    {
     "data": {
      "image/png": "[encoded data removed]",
      "text/plain": [
       "<Figure size 640x480 with 1 Axes>"
      ]
     },
     "metadata": {},
     "output_type": "display_data"
    }
   ],
   "source": [
    "plt.plot(stepi, lossi)"
   ]
  },
  {
   "cell_type": "markdown",
   "id": "5854bbe1-b413-4b4f-bf80-5a70f828dfc2",
   "metadata": {},
   "source": [
    "Evaluate on \"dev\" dataset"
   ]
  },
  {
   "cell_type": "markdown",
   "id": "d0fdeece-e66b-41fc-b494-ba0b53a80603",
   "metadata": {},
   "source": [
    "Train and dev loss should be ~equal (underfitting) at first"
   ]
  },
  {
   "cell_type": "code",
   "execution_count": 187,
   "id": "2d150b25-6773-4ebb-9dfa-11f8f88b381e",
   "metadata": {
    "tags": []
   },
   "outputs": [
    {
     "data": {
      "text/plain": [
       "tensor(2.2377, grad_fn=<NllLossBackward0>)"
      ]
     },
     "execution_count": 187,
     "metadata": {},
     "output_type": "execute_result"
    }
   ],
   "source": [
    "emb = C[Xtr]\n",
    "h = torch.tanh(emb.view(-1, 30) @ W1 + b1)\n",
    "logits = h @ W2 + b2\n",
    "loss = F.cross_entropy(logits, Ytr)\n",
    "loss"
   ]
  },
  {
   "cell_type": "code",
   "execution_count": 188,
   "id": "f001a63f-3446-499e-925a-f8d217ee7e96",
   "metadata": {
    "tags": []
   },
   "outputs": [
    {
     "data": {
      "text/plain": [
       "tensor(2.2985, grad_fn=<NllLossBackward0>)"
      ]
     },
     "execution_count": 188,
     "metadata": {},
     "output_type": "execute_result"
    }
   ],
   "source": [
    "emb = C[Xdev]\n",
    "h = torch.tanh(emb.view(-1, 30) @ W1 + b1)\n",
    "logits = h @ W2 + b2\n",
    "loss = F.cross_entropy(logits, Ydev)\n",
    "loss"
   ]
  },
  {
   "cell_type": "markdown",
   "id": "b328f057-845b-4f85-844f-cd923d52471e",
   "metadata": {},
   "source": [
    "To scale we bump neurons in hidden layer from 100 to 300 ☝🏻"
   ]
  },
  {
   "cell_type": "code",
   "execution_count": 158,
   "id": "7c240418-8712-465d-88f6-9a51e48aab77",
   "metadata": {
    "tags": []
   },
   "outputs": [
    {
     "data": {
      "image/png": "[encoded data removed]",
      "text/plain": [
       "<Figure size 800x800 with 1 Axes>"
      ]
     },
     "metadata": {},
     "output_type": "display_data"
    }
   ],
   "source": [
    "plt.figure(figsize=(8,8))\n",
    "plt.scatter(C[:,0].data, C[:,1].data, s=200)\n",
    "for i in range(C.shape[0]):\n",
    "  plt.text(C[i,0].item(), C[i,1].item(), itos[i], ha=\"center\", va=\"center\", color=\"white\")\n",
    "plt.grid(\"minor\")"
   ]
  },
  {
   "cell_type": "markdown",
   "id": "fbd07224-422c-4627-841a-68b11cbea078",
   "metadata": {},
   "source": [
    "Now we scale embeddings from 2 to 10 dimensions and decrease number of neurons to 200"
   ]
  },
  {
   "cell_type": "markdown",
   "id": "a358be2a-661a-4350-8c22-2edfb0f76a47",
   "metadata": {},
   "source": [
    "## How to Sample"
   ]
  },
  {
   "cell_type": "code",
   "execution_count": 189,
   "id": "b1efd1c0-fd28-4da8-8924-f9ac746e9a81",
   "metadata": {
    "tags": []
   },
   "outputs": [
    {
     "data": {
      "text/plain": [
       "torch.Size([1, 3, 10])"
      ]
     },
     "execution_count": 189,
     "metadata": {},
     "output_type": "execute_result"
    }
   ],
   "source": [
    "context = [0] * block_size\n",
    "C[torch.tensor([context])].shape"
   ]
  },
  {
   "cell_type": "code",
   "execution_count": 190,
   "id": "0dd81978-174d-4a9d-a41b-29db6b52b40d",
   "metadata": {
    "tags": []
   },
   "outputs": [
    {
     "name": "stdout",
     "output_type": "stream",
     "text": [
      "morahmayah.\n",
      "deen.\n",
      "ndhayah.\n",
      "remmani.\n",
      "jernegradelyn.\n",
      "eliah.\n",
      "milah.\n",
      "reden.\n",
      "carlear.\n",
      "emyziah.\n",
      "karin.\n",
      "shrancishirael.\n",
      "jonie.\n",
      "jenslen.\n",
      "priyan.\n",
      "zaredaryandreyah.\n",
      "yumajaysen.\n",
      "daihaan.\n",
      "adyansyn.\n",
      "zarelle.\n"
     ]
    }
   ],
   "source": [
    "# sample from the model\n",
    "g = torch.Generator().manual_seed(2147483647 + 10)\n",
    "\n",
    "for _ in range(20):\n",
    "    \n",
    "    out = []\n",
    "    context = [0] * block_size # initialize with all ...\n",
    "    while True:\n",
    "      emb = C[torch.tensor([context])] # (1,block_size,d)\n",
    "      h = torch.tanh(emb.view(1, -1) @ W1 + b1)\n",
    "      logits = h @ W2 + b2\n",
    "      probs = F.softmax(logits, dim=1)\n",
    "      ix = torch.multinomial(probs, num_samples=1, generator=g).item()\n",
    "      context = context[1:] + [ix]\n",
    "      out.append(ix)\n",
    "      if ix == 0:\n",
    "        break\n",
    "    \n",
    "    print(''.join(itos[i] for i in out))"
   ]
  },
  {
   "cell_type": "code",
   "execution_count": null,
   "id": "a7f08f23-7827-4325-9524-8a6eff89fb93",
   "metadata": {},
   "outputs": [],
   "source": []
  }
 ],
 "metadata": {
  "kernelspec": {
   "display_name": "Python 3 (ipykernel)",
   "language": "python",
   "name": "python3"
  },
  "language_info": {
   "codemirror_mode": {
    "name": "ipython",
    "version": 3
   },
   "file_extension": ".py",
   "mimetype": "text/x-python",
   "name": "python",
   "nbconvert_exporter": "python",
   "pygments_lexer": "ipython3",
   "version": "3.10.10"
  }
 },
 "nbformat": 4,
 "nbformat_minor": 5
}
