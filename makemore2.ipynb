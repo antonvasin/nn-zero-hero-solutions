{
 "cells": [
  {
   "cell_type": "code",
   "execution_count": 93,
   "id": "8a344b85-915a-42f7-8fb6-8b73990d0be8",
   "metadata": {
    "tags": []
   },
   "outputs": [],
   "source": [
    "import torch\n",
    "import torch.nn.functional as F\n",
    "import matplotlib.pyplot as plt\n",
    "%matplotlib inline"
   ]
  },
  {
   "cell_type": "code",
   "execution_count": 94,
   "id": "8041645a-d221-4fb7-adee-3c3035429203",
   "metadata": {
    "tags": []
   },
   "outputs": [],
   "source": [
    "words = open('names.txt', 'r').read().splitlines()\n",
    "chars = sorted(list(set(''.join(words))))\n",
    "stoi = {s:i+1 for i,s in enumerate(chars)}\n",
    "stoi['.'] = 0\n",
    "itos = {i:s for s,i in stoi.items()}"
   ]
  },
  {
   "cell_type": "code",
   "execution_count": 95,
   "id": "d3c7009d-c48d-4a4e-81f9-dac3c9be0a19",
   "metadata": {
    "tags": []
   },
   "outputs": [],
   "source": [
    "# how many characters to take to make prediction\n",
    "block_size = 3\n",
    "X, Y = [], []\n",
    "\n",
    "# build trigram training set\n",
    "for w in words:\n",
    "  #print(w)\n",
    "  context = [0] * block_size\n",
    "  for ch in w + '.':\n",
    "    ix = stoi[ch]\n",
    "    X.append(context)\n",
    "    Y.append(ix)\n",
    "    #print(''.join(itos[i] for i in context), '--->', itos[ix])\n",
    "    context = context[1:] + [ix] # crop and append\n",
    "    \n",
    "X = torch.tensor(X)\n",
    "Y = torch.tensor(Y)"
   ]
  },
  {
   "cell_type": "code",
   "execution_count": 4,
   "id": "3c68d645-d3b2-47aa-b4d9-f3efddaab01e",
   "metadata": {
    "tags": []
   },
   "outputs": [
    {
     "data": {
      "text/plain": [
       "(torch.Size([228146, 3]), torch.int64, torch.Size([228146]), torch.int64)"
      ]
     },
     "execution_count": 4,
     "metadata": {},
     "output_type": "execute_result"
    }
   ],
   "source": [
    "X.shape, X.dtype, Y.shape, Y.dtype"
   ]
  },
  {
   "cell_type": "markdown",
   "id": "c0a26cf6-051c-4fb4-ab8a-5018de5726ce",
   "metadata": {},
   "source": [
    "## Build embeding lookup table C"
   ]
  },
  {
   "cell_type": "code",
   "execution_count": 96,
   "id": "758be464-f38f-43be-83b9-5f8a59fe9378",
   "metadata": {
    "tags": []
   },
   "outputs": [],
   "source": [
    "C = torch.randn((27, 2))"
   ]
  },
  {
   "cell_type": "markdown",
   "id": "9a463466-d233-46ca-b29a-3fdf232425ca",
   "metadata": {},
   "source": [
    "Indexing into C:"
   ]
  },
  {
   "cell_type": "code",
   "execution_count": 6,
   "id": "e1da9686-6cef-4613-b2cd-19206d7a3f28",
   "metadata": {
    "tags": []
   },
   "outputs": [
    {
     "data": {
      "text/plain": [
       "tensor([-1.6181, -1.5281])"
      ]
     },
     "execution_count": 6,
     "metadata": {},
     "output_type": "execute_result"
    }
   ],
   "source": [
    "C[5]"
   ]
  },
  {
   "cell_type": "code",
   "execution_count": 7,
   "id": "a14852f3-8e3b-41fe-8d26-422975aa24fc",
   "metadata": {
    "tags": []
   },
   "outputs": [
    {
     "data": {
      "text/plain": [
       "torch.Size([228146, 3, 2])"
      ]
     },
     "execution_count": 7,
     "metadata": {},
     "output_type": "execute_result"
    }
   ],
   "source": [
    "emb = C[X]\n",
    "emb.shape"
   ]
  },
  {
   "cell_type": "markdown",
   "id": "4617c5c4-67a4-4071-8841-5a33d0ce6063",
   "metadata": {},
   "source": [
    "## Implementing hidden layer"
   ]
  },
  {
   "cell_type": "code",
   "execution_count": 8,
   "id": "da8617dd-7313-4220-a520-8fab8d3e0b41",
   "metadata": {
    "tags": []
   },
   "outputs": [],
   "source": [
    "W1 = torch.randn((6,100))\n",
    "b1 = torch.randn(100)"
   ]
  },
  {
   "cell_type": "markdown",
   "id": "86c03a4e-186b-4fa5-aef1-6610c8347b0a",
   "metadata": {},
   "source": [
    "Using `torch.cat` to concat embedings into 32x6 size"
   ]
  },
  {
   "cell_type": "code",
   "execution_count": 9,
   "id": "4e76ee51-b0cc-4a1c-82c7-3dea4bf8a8b2",
   "metadata": {
    "tags": []
   },
   "outputs": [
    {
     "data": {
      "text/plain": [
       "torch.Size([228146, 6])"
      ]
     },
     "execution_count": 9,
     "metadata": {},
     "output_type": "execute_result"
    }
   ],
   "source": [
    "torch.cat([emb[:, 0, :], emb[:, 1, :], emb[: ,2, :]], 1).shape"
   ]
  },
  {
   "cell_type": "code",
   "execution_count": 10,
   "id": "c5788a65-bfae-462c-8b31-bcae600e1a2b",
   "metadata": {
    "tags": []
   },
   "outputs": [
    {
     "data": {
      "text/plain": [
       "torch.Size([228146, 6])"
      ]
     },
     "execution_count": 10,
     "metadata": {},
     "output_type": "execute_result"
    }
   ],
   "source": [
    "torch.cat(torch.unbind(emb, 1), 1).shape"
   ]
  },
  {
   "cell_type": "markdown",
   "id": "38694ffc-81b3-4486-8e8e-097d0bf6de87",
   "metadata": {},
   "source": [
    "We can represent any tensor as any sized tensor since it's stored as a vector"
   ]
  },
  {
   "cell_type": "code",
   "execution_count": 11,
   "id": "0328077d-9dba-41fe-9f94-067b00689e8e",
   "metadata": {
    "tags": []
   },
   "outputs": [
    {
     "data": {
      "text/plain": [
       "tensor([ 0,  1,  2,  3,  4,  5,  6,  7,  8,  9, 10, 11, 12, 13, 14, 15, 16, 17])"
      ]
     },
     "execution_count": 11,
     "metadata": {},
     "output_type": "execute_result"
    }
   ],
   "source": [
    "a = torch.arange(18)\n",
    "a"
   ]
  },
  {
   "cell_type": "code",
   "execution_count": 12,
   "id": "0bf5d8d0-e06d-4b13-a147-2d71c219d3c7",
   "metadata": {
    "tags": []
   },
   "outputs": [
    {
     "data": {
      "text/plain": [
       "torch.Size([18])"
      ]
     },
     "execution_count": 12,
     "metadata": {},
     "output_type": "execute_result"
    }
   ],
   "source": [
    "a.shape"
   ]
  },
  {
   "cell_type": "code",
   "execution_count": 13,
   "id": "7113b555-5493-488a-ac39-6d12716a1a95",
   "metadata": {
    "tags": []
   },
   "outputs": [
    {
     "data": {
      "text/plain": [
       "tensor([[ 0,  1],\n",
       "        [ 2,  3],\n",
       "        [ 4,  5],\n",
       "        [ 6,  7],\n",
       "        [ 8,  9],\n",
       "        [10, 11],\n",
       "        [12, 13],\n",
       "        [14, 15],\n",
       "        [16, 17]])"
      ]
     },
     "execution_count": 13,
     "metadata": {},
     "output_type": "execute_result"
    }
   ],
   "source": [
    "a.view(9, 2)"
   ]
  },
  {
   "cell_type": "code",
   "execution_count": 14,
   "id": "a8363fc9-c44c-42c7-a3db-71ef7bdff8cf",
   "metadata": {
    "tags": []
   },
   "outputs": [
    {
     "data": {
      "text/plain": [
       "torch.Size([3, 3, 2])"
      ]
     },
     "execution_count": 14,
     "metadata": {},
     "output_type": "execute_result"
    }
   ],
   "source": [
    "a.view(3,3,2).shape"
   ]
  },
  {
   "cell_type": "code",
   "execution_count": 15,
   "id": "df3e9482-16f3-4d2f-b586-971b047511ab",
   "metadata": {
    "tags": []
   },
   "outputs": [
    {
     "ename": "RuntimeError",
     "evalue": "shape '[32, 6]' is invalid for input of size 1368876",
     "output_type": "error",
     "traceback": [
      "\u001b[0;31m---------------------------------------------------------------------------\u001b[0m",
      "\u001b[0;31mRuntimeError\u001b[0m                              Traceback (most recent call last)",
      "Cell \u001b[0;32mIn[15], line 1\u001b[0m\n\u001b[0;32m----> 1\u001b[0m \u001b[43memb\u001b[49m\u001b[38;5;241;43m.\u001b[39;49m\u001b[43mview\u001b[49m\u001b[43m(\u001b[49m\u001b[38;5;241;43m32\u001b[39;49m\u001b[43m,\u001b[49m\u001b[43m \u001b[49m\u001b[38;5;241;43m6\u001b[39;49m\u001b[43m)\u001b[49m\u001b[38;5;241m.\u001b[39mshape\n",
      "\u001b[0;31mRuntimeError\u001b[0m: shape '[32, 6]' is invalid for input of size 1368876"
     ]
    }
   ],
   "source": [
    "emb.view(32, 6).shape"
   ]
  },
  {
   "cell_type": "markdown",
   "id": "970a0b41-8897-4b24-b242-27fc75f66838",
   "metadata": {},
   "source": [
    "*`emb.view(-1 ,6)` infers the size of `emb` instead of hardcoding `32`.*\n",
    "\n",
    "Thus hidden layer is following:"
   ]
  },
  {
   "cell_type": "code",
   "execution_count": null,
   "id": "d77958b8-eea8-43a6-b633-eab2596ec9eb",
   "metadata": {
    "tags": []
   },
   "outputs": [],
   "source": [
    "h = torch.tanh(emb.view(-1, 6) @ W1 + b1)\n",
    "h"
   ]
  },
  {
   "cell_type": "markdown",
   "id": "01b048a4-64d6-4cc0-8521-d91ef0ca72d7",
   "metadata": {},
   "source": [
    "## The Output Layer"
   ]
  },
  {
   "cell_type": "code",
   "execution_count": null,
   "id": "98c8be1c-43ad-43b5-8e17-c64b0e42aff2",
   "metadata": {
    "tags": []
   },
   "outputs": [],
   "source": [
    "W2 = torch.randn((100, 27))\n",
    "b2 = torch.randn(27)"
   ]
  },
  {
   "cell_type": "code",
   "execution_count": null,
   "id": "8a0bd749-9683-4bc1-908d-e4cdcb56ab89",
   "metadata": {
    "tags": []
   },
   "outputs": [],
   "source": [
    "logits = h @ W2 + b2\n",
    "counts = logits.exp()\n",
    "prob = counts / counts.sum(1, keepdims=True)"
   ]
  },
  {
   "cell_type": "code",
   "execution_count": null,
   "id": "e4e380ea-834e-4605-93ac-f63ded53d8e5",
   "metadata": {
    "tags": []
   },
   "outputs": [],
   "source": [
    "prob.shape"
   ]
  },
  {
   "cell_type": "code",
   "execution_count": null,
   "id": "35dbb8ec-f9af-40f9-96df-5a107f96c7ca",
   "metadata": {
    "tags": []
   },
   "outputs": [],
   "source": [
    "loss = -prob[torch.arange(32), Y].log().mean()\n",
    "loss"
   ]
  },
  {
   "cell_type": "code",
   "execution_count": 128,
   "id": "7b2d240c-b646-4d6b-8032-bdc8248fca9c",
   "metadata": {
    "tags": []
   },
   "outputs": [],
   "source": [
    "g = torch.Generator().manual_seed(2147483647) # for reproducibility\n",
    "C = torch.randn((27, 2), generator=g)\n",
    "W1 = torch.randn((6, 100), generator=g)\n",
    "b1 = torch.randn(100, generator=g)\n",
    "W2 = torch.randn((100, 27), generator=g)\n",
    "b2 = torch.randn(27, generator=g)\n",
    "parameters = [C, W1, b1, W2, b2]"
   ]
  },
  {
   "cell_type": "code",
   "execution_count": 129,
   "id": "12332f53-3a81-45ec-a461-3ec235cb5449",
   "metadata": {
    "tags": []
   },
   "outputs": [
    {
     "data": {
      "text/plain": [
       "3481"
      ]
     },
     "execution_count": 129,
     "metadata": {},
     "output_type": "execute_result"
    }
   ],
   "source": [
    "sum(p.nelement() for p in parameters)"
   ]
  },
  {
   "cell_type": "markdown",
   "id": "27cff99e-b9e0-4cf7-b6f5-1dd9f8ad7e80",
   "metadata": {
    "tags": []
   },
   "source": [
    "## Training"
   ]
  },
  {
   "cell_type": "code",
   "execution_count": 130,
   "id": "024aeceb-df53-45cc-9582-4eb123b595e4",
   "metadata": {
    "tags": []
   },
   "outputs": [],
   "source": [
    "for p in parameters:\n",
    "  p.requires_grad = True"
   ]
  },
  {
   "cell_type": "code",
   "execution_count": 131,
   "id": "349ccc5a-89eb-4824-990d-b02a2f9a3051",
   "metadata": {
    "tags": []
   },
   "outputs": [],
   "source": [
    "lre = torch.linspace(-3, 0, 1000)\n",
    "lrs = 10**lre"
   ]
  },
  {
   "cell_type": "code",
   "execution_count": 136,
   "id": "82e55819-79a7-4bd4-98a4-be02ee6a072b",
   "metadata": {
    "tags": []
   },
   "outputs": [
    {
     "name": "stdout",
     "output_type": "stream",
     "text": [
      "2.3044729232788086\n"
     ]
    }
   ],
   "source": [
    "lri = []\n",
    "lossi = []\n",
    "\n",
    "for i in range(10000):\n",
    "  # minibatch construction\n",
    "  ix = torch.randint(0, Xtr.shape[0], (32,))\n",
    "  \n",
    "  # Forward pass\n",
    "  emb = C[Xtr[ix]]\n",
    "  h = torch.tanh(emb.view(-1, 6) @ W1 + b1)\n",
    "  logits = h @ W2 + b2\n",
    "  loss = F.cross_entropy(logits, Ytr[ix])\n",
    "  #print(loss.item())\n",
    "\n",
    "  # Backward pass\n",
    "  for p in parameters:\n",
    "    p.grad = None\n",
    "  loss.backward()\n",
    "\n",
    "  # Update\n",
    "  lr = 0.01\n",
    "  for p in parameters:\n",
    "    p.data += -lr * p.grad\n",
    "    \n",
    "  # track\n",
    "  #lri.append(lre[i])\n",
    "  #lossi.append(loss.item())\n",
    "    \n",
    "print(loss.item())"
   ]
  },
  {
   "cell_type": "markdown",
   "id": "3538fbba-2421-44e1-9db7-fa74d36a1277",
   "metadata": {},
   "source": [
    "We can introduce batching to not to iterate over all the examples every time. Iterate over small batch and move to another.\n",
    "\n",
    "The quality of gradient is lower that way. So the direction is not reliable but good enough. It's better to have approx direction and take more steps than trying to get more precise graient with fewer steps."
   ]
  },
  {
   "cell_type": "code",
   "execution_count": 137,
   "id": "6f3dedb8-9c92-4300-87c4-487103bef884",
   "metadata": {
    "tags": []
   },
   "outputs": [
    {
     "data": {
      "text/plain": [
       "tensor(2.3425, grad_fn=<NllLossBackward0>)"
      ]
     },
     "execution_count": 137,
     "metadata": {},
     "output_type": "execute_result"
    }
   ],
   "source": [
    "emb = C[Xdev]\n",
    "h = torch.tanh(emb.view(-1, 6) @ W1 + b1)\n",
    "logits = h @ W2 + b2\n",
    "loss = F.cross_entropy(logits, Ydev)\n",
    "loss"
   ]
  },
  {
   "cell_type": "markdown",
   "id": "32ca0c8c-e81f-4728-87e2-dded49eed4fd",
   "metadata": {
    "tags": []
   },
   "source": [
    "## Learning Rate"
   ]
  },
  {
   "cell_type": "markdown",
   "id": "bdd2cc88-638e-49d1-9777-e30ef813c5c3",
   "metadata": {},
   "source": [
    "How can we determine the learning speed (`+= -0.1`)?"
   ]
  },
  {
   "cell_type": "code",
   "execution_count": 61,
   "id": "892a5ba9-695b-4c57-87f0-7e11f92df307",
   "metadata": {
    "tags": []
   },
   "outputs": [],
   "source": [
    "# Learning Rate Exponent\n",
    "lre = torch.linspace(0.001, 1, 1000)\n",
    "lrs = 10**lre"
   ]
  },
  {
   "cell_type": "code",
   "execution_count": 87,
   "id": "cc0bd490-f144-4d7b-acbf-82b113832b8e",
   "metadata": {
    "tags": []
   },
   "outputs": [
    {
     "data": {
      "text/plain": [
       "[<matplotlib.lines.Line2D at 0x7f7b91a16770>]"
      ]
     },
     "execution_count": 87,
     "metadata": {},
     "output_type": "execute_result"
    },
    {
     "data": {
      "image/png": "[encoded data removed]",
      "text/plain": [
       "<Figure size 640x480 with 1 Axes>"
      ]
     },
     "metadata": {},
     "output_type": "display_data"
    }
   ],
   "source": [
    "plt.plot(lri, lossi)"
   ]
  },
  {
   "cell_type": "markdown",
   "id": "d4d43630-b1d9-4926-a371-884f0c14dbb1",
   "metadata": {},
   "source": [
    "## Dataset Splits"
   ]
  },
  {
   "cell_type": "code",
   "execution_count": 117,
   "id": "cb0a6000-3bb3-427c-b297-0408dd53d0ac",
   "metadata": {
    "tags": []
   },
   "outputs": [
    {
     "name": "stdout",
     "output_type": "stream",
     "text": [
      "torch.Size([182625, 3]) torch.Size([182625])\n",
      "torch.Size([22655, 3]) torch.Size([22655])\n",
      "torch.Size([22866, 3]) torch.Size([22866])\n"
     ]
    }
   ],
   "source": [
    "# build the dataset\n",
    "block_size = 3 # context length: how many characters do we take to predict the next one?\n",
    "\n",
    "def build_dataset(words):  \n",
    "  X, Y = [], []\n",
    "  for w in words:\n",
    "\n",
    "    #print(w)\n",
    "    context = [0] * block_size\n",
    "    for ch in w + '.':\n",
    "      ix = stoi[ch]\n",
    "      X.append(context)\n",
    "      Y.append(ix)\n",
    "      #print(''.join(itos[i] for i in context), '--->', itos[ix])\n",
    "      context = context[1:] + [ix] # crop and append\n",
    "\n",
    "  X = torch.tensor(X)\n",
    "  Y = torch.tensor(Y)\n",
    "  print(X.shape, Y.shape)\n",
    "  return X, Y\n",
    "\n",
    "import random\n",
    "random.seed(42)\n",
    "random.shuffle(words)\n",
    "n1 = int(0.8*len(words))\n",
    "n2 = int(0.9*len(words))\n",
    "\n",
    "Xtr, Ytr = build_dataset(words[:n1])\n",
    "Xdev, Ydev = build_dataset(words[n1:n2])\n",
    "Xte, Yte = build_dataset(words[n2:])"
   ]
  },
  {
   "cell_type": "code",
   "execution_count": 118,
   "id": "3e760269-ae6b-47ec-a464-c5f8c5e71d5f",
   "metadata": {
    "tags": []
   },
   "outputs": [
    {
     "data": {
      "text/plain": [
       "25626"
      ]
     },
     "execution_count": 118,
     "metadata": {},
     "output_type": "execute_result"
    }
   ],
   "source": [
    "n1"
   ]
  },
  {
   "cell_type": "code",
   "execution_count": 119,
   "id": "28291fc1-d138-4ec7-8921-a810a194cfda",
   "metadata": {
    "tags": []
   },
   "outputs": [
    {
     "data": {
      "text/plain": [
       "28829"
      ]
     },
     "execution_count": 119,
     "metadata": {},
     "output_type": "execute_result"
    }
   ],
   "source": [
    "n2"
   ]
  },
  {
   "cell_type": "code",
   "execution_count": 120,
   "id": "c9b8b1fd-fccd-4259-80e1-dbfc3b3b790f",
   "metadata": {
    "tags": []
   },
   "outputs": [
    {
     "data": {
      "text/plain": [
       "3203"
      ]
     },
     "execution_count": 120,
     "metadata": {},
     "output_type": "execute_result"
    }
   ],
   "source": [
    "n2 - n1 # dev examples"
   ]
  },
  {
   "cell_type": "code",
   "execution_count": 121,
   "id": "0f2cdf1e-4940-46a4-b7c9-17cd182e36ce",
   "metadata": {
    "tags": []
   },
   "outputs": [
    {
     "data": {
      "text/plain": [
       "3204"
      ]
     },
     "execution_count": 121,
     "metadata": {},
     "output_type": "execute_result"
    }
   ],
   "source": [
    "len(words) - n2 # test examples"
   ]
  },
  {
   "cell_type": "markdown",
   "id": "66ea9ac6-b005-428a-b196-320836084ea3",
   "metadata": {},
   "source": [
    "Update #Training with `Xtr` and `Ytr` and evaluate using `Xdev` and `Ydev`."
   ]
  },
  {
   "cell_type": "code",
   "execution_count": null,
   "id": "1d5125d6-8447-4a77-a15a-8b4b90d6c678",
   "metadata": {},
   "outputs": [],
   "source": []
  }
 ],
 "metadata": {
  "kernelspec": {
   "display_name": "Python 3 (ipykernel)",
   "language": "python",
   "name": "python3"
  },
  "language_info": {
   "codemirror_mode": {
    "name": "ipython",
    "version": 3
   },
   "file_extension": ".py",
   "mimetype": "text/x-python",
   "name": "python",
   "nbconvert_exporter": "python",
   "pygments_lexer": "ipython3",
   "version": "3.10.10"
  }
 },
 "nbformat": 4,
 "nbformat_minor": 5
}
