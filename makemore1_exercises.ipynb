{
 "cells": [
  {
   "cell_type": "markdown",
   "id": "5131a247-d240-42bd-926b-5aba9ed24082",
   "metadata": {
    "tags": []
   },
   "source": [
    "# Exercises"
   ]
  },
  {
   "cell_type": "markdown",
   "id": "0d570098-46f8-473f-8117-31415848a9ed",
   "metadata": {
    "tags": []
   },
   "source": [
    "## E01\n",
    "\n",
    "Train a trigram language model, i.e. take two characters as an input to predict the 3rd one. Feel free to use either counting or a neural net. Evaluate the loss; Did it improve over a bigram model?"
   ]
  },
  {
   "cell_type": "markdown",
   "id": "ae3325ca-97e6-4827-8e82-26b0de3b04f5",
   "metadata": {},
   "source": [
    "### Count Approach"
   ]
  },
  {
   "cell_type": "code",
   "execution_count": 98,
   "id": "78ee82df-19b7-45e2-bb1c-df0ad36bea5e",
   "metadata": {
    "tags": []
   },
   "outputs": [],
   "source": [
    "import torch\n",
    "words = open('names.txt', 'r').read().splitlines()\n",
    "chars = sorted(list(set(''.join(words))))\n",
    "stoi = {s:i+1 for i,s in enumerate(chars)}\n",
    "stoi['.'] = 0\n",
    "itos = {i:s for s,i in stoi.items()}"
   ]
  },
  {
   "cell_type": "markdown",
   "id": "b63cdc6d-a903-4d6e-9b50-f69c401c70f2",
   "metadata": {},
   "source": [
    "Arrange counts as (27, 27, 27) tensor:"
   ]
  },
  {
   "cell_type": "code",
   "execution_count": 99,
   "id": "33114ca1-d27c-4c04-b04f-30ae731aa1f4",
   "metadata": {
    "tags": []
   },
   "outputs": [],
   "source": [
    "N = torch.zeros((27, 27, 27), dtype=torch.int32)\n",
    "for w in words:\n",
    "    chs = ['.'] + list(w) + ['.']\n",
    "    for ch1, ch2, ch3 in zip(chs, chs[1:], chs[2:]):\n",
    "      ix1 = stoi[ch1]\n",
    "      ix2 = stoi[ch2]\n",
    "      ix3 = stoi[ch3]\n",
    "#      print('<', ch1, ix1,'>, <', ch2, ix2,'>, <', ch3, ix3, '>')\n",
    "      N[ix1, ix2, ix3] += 1"
   ]
  },
  {
   "cell_type": "markdown",
   "id": "00f90880-ca8e-4308-b74e-57732efa9a17",
   "metadata": {},
   "source": [
    "Checking probabilities:"
   ]
  },
  {
   "cell_type": "code",
   "execution_count": 100,
   "id": "6be22e83-121d-4564-bc08-600a267a4d57",
   "metadata": {
    "tags": []
   },
   "outputs": [
    {
     "data": {
      "text/plain": [
       "(12, 'l')"
      ]
     },
     "execution_count": 100,
     "metadata": {},
     "output_type": "execute_result"
    }
   ],
   "source": [
    "p = N[0, 1].float()\n",
    "p = p / p.sum()\n",
    "p\n",
    "g = torch.Generator().manual_seed(2147483647)\n",
    "ix = torch.multinomial(p, num_samples=1, replacement=True, generator=g).item()\n",
    "ix, itos[ix]"
   ]
  },
  {
   "cell_type": "markdown",
   "id": "e6f9ba34-bd9f-48ad-95cd-8ac98de871b2",
   "metadata": {},
   "source": [
    "Constructing probability matrix:"
   ]
  },
  {
   "cell_type": "code",
   "execution_count": 101,
   "id": "346a59b1-bb82-4fda-8a11-be92af4f4619",
   "metadata": {
    "tags": []
   },
   "outputs": [],
   "source": [
    "P = (N+1).float()\n",
    "P /= P.sum(2, keepdim=True)\n",
    "assert P[0, 0].sum() == 1"
   ]
  },
  {
   "cell_type": "code",
   "execution_count": 102,
   "id": "8b663a97-8cc7-4a5a-b4e7-6ed29b7550bd",
   "metadata": {
    "tags": []
   },
   "outputs": [
    {
     "data": {
      "text/plain": [
       "torch.Size([27, 27, 27])"
      ]
     },
     "execution_count": 102,
     "metadata": {},
     "output_type": "execute_result"
    }
   ],
   "source": [
    "P.shape"
   ]
  },
  {
   "cell_type": "markdown",
   "id": "865b7fd4-637f-4a65-8d7e-4977d6913f54",
   "metadata": {},
   "source": [
    "Sampling:"
   ]
  },
  {
   "cell_type": "code",
   "execution_count": 103,
   "id": "0b458b12-3e3f-4228-8dbf-73561cad4f55",
   "metadata": {
    "tags": []
   },
   "outputs": [
    {
     "name": "stdout",
     "output_type": "stream",
     "text": [
      "junide.\n",
      "ilyasid.\n",
      "prelay.\n",
      "ocin.\n",
      "fairritoper.\n",
      "sathen.\n",
      "dannaaryanileniassibduinrwin.\n",
      "lessiyanayla.\n",
      "te.\n",
      "farmumthyfortumj.\n",
      "ponn.\n",
      "zena.\n",
      "jaylicore.\n",
      "ya.\n",
      "zoffra.\n",
      "jamilyn.\n",
      "fmouis.\n",
      "yah.\n",
      "wanaasnhavi.\n",
      "honszxhddion.\n"
     ]
    }
   ],
   "source": [
    "g = torch.Generator().manual_seed(2147483647)\n",
    "\n",
    "for i in range(20):\n",
    "  out = []\n",
    "  # two starting chars\n",
    "  ix1 = 0\n",
    "  ix2 = 0\n",
    "  while True:\n",
    "      p = P[ix1, ix2] # prob vector of (ix1, ix2)\n",
    "      \n",
    "      # move chars along until we hit 0\n",
    "      ix1 = ix2\n",
    "      ix2 = torch.multinomial(p, num_samples=1, replacement=True, generator=g).item()\n",
    "      out.append(itos[ix2])\n",
    "      if ix2 == 0:\n",
    "          break\n",
    "  print(''.join(out))"
   ]
  },
  {
   "cell_type": "markdown",
   "id": "2494babf-e824-4bfc-81bb-bf4b6f9ddda7",
   "metadata": {},
   "source": [
    "Calculate loss which is negative log likelihood:"
   ]
  },
  {
   "cell_type": "code",
   "execution_count": 104,
   "id": "f23ba696-79b1-4ef6-9ea4-8d03c6cb4045",
   "metadata": {
    "tags": []
   },
   "outputs": [
    {
     "name": "stdout",
     "output_type": "stream",
     "text": [
      "log_lh=tensor(-410414.9688)\n",
      "nll=tensor(410414.9688)\n",
      "2.092747449874878\n"
     ]
    }
   ],
   "source": [
    "n = 0\n",
    "log_lh = 0.0\n",
    "for w in words:\n",
    "    chs = ['.'] + list(w) + ['.']\n",
    "    for ch1, ch2, ch3 in zip(chs, chs[1:], chs[2:]):\n",
    "        ix1 = stoi[ch1]\n",
    "        ix2 = stoi[ch2]\n",
    "        ix3 = stoi[ch3]\n",
    "        \n",
    "        prob = P[ix1, ix2, ix3]\n",
    "        logprob = torch.log(prob)\n",
    "        log_lh += logprob\n",
    "        n += 1\n",
    "        #print(f'{ch1}{ch2}: {prob:.4f} {logprob:.4f}')\n",
    "        \n",
    "print(f'{log_lh=}')\n",
    "nll= - log_lh\n",
    "print(f'{nll=}')\n",
    "print(f'{nll/n}')"
   ]
  },
  {
   "cell_type": "markdown",
   "id": "4e2d578b-a853-4d50-b203-daae546698b7",
   "metadata": {},
   "source": [
    "**Loss is \\~2 which is lower than bigram example of \\~2.4**\n",
    "\n",
    "*\"What letter comes next after `.a`?\"* is more precise than *\"What letter comes next after `a`?\"*"
   ]
  },
  {
   "cell_type": "markdown",
   "id": "7535166b-1279-402f-9bd1-95ac792d2468",
   "metadata": {},
   "source": [
    "### NN Approach"
   ]
  },
  {
   "cell_type": "code",
   "execution_count": 107,
   "id": "8978a59e-edc8-4543-b839-b317816962db",
   "metadata": {
    "tags": []
   },
   "outputs": [],
   "source": [
    "import torch.nn.functional as F\n",
    "import matplotlib.pyplot as plt\n",
    "%matplotlib inline"
   ]
  },
  {
   "cell_type": "markdown",
   "id": "2d0e3308-6d5c-455d-97e9-753032b5d15d",
   "metadata": {},
   "source": [
    "Create training set of trigrams:"
   ]
  },
  {
   "cell_type": "code",
   "execution_count": 109,
   "id": "97eb02a5-4564-46a7-888b-486c76fba33a",
   "metadata": {
    "tags": []
   },
   "outputs": [
    {
     "name": "stdout",
     "output_type": "stream",
     "text": [
      "number of examples:  8\n"
     ]
    }
   ],
   "source": [
    "xs, ys = [], []\n",
    "for w in words[:1]:\n",
    "  chs = ['.'] + list(w) + ['.']\n",
    "  for ch1, ch3, ch2 in zip(chs, chs[1:], chs[2:]):\n",
    "    # unfold dimensions onto rows hence '* 27'\n",
    "    xs.append((stoi[ch1], stoi[ch2]))\n",
    "    ys.append(stoi[ch3])\n",
    "    \n",
    "xs = torch.tensor(xs)\n",
    "ys = torch.tensor(ys)\n",
    "num = xs.nelement()\n",
    "print('number of examples: ', num)"
   ]
  },
  {
   "cell_type": "code",
   "execution_count": 117,
   "id": "d3d7ccd1-ec69-40c2-981c-cc5b07425813",
   "metadata": {
    "tags": []
   },
   "outputs": [],
   "source": [
    "xenc = F.one_hot(xs, num_classes=27)"
   ]
  }
 ],
 "metadata": {
  "kernelspec": {
   "display_name": "Python 3 (ipykernel)",
   "language": "python",
   "name": "python3"
  },
  "language_info": {
   "codemirror_mode": {
    "name": "ipython",
    "version": 3
   },
   "file_extension": ".py",
   "mimetype": "text/x-python",
   "name": "python",
   "nbconvert_exporter": "python",
   "pygments_lexer": "ipython3",
   "version": "3.10.10"
  }
 },
 "nbformat": 4,
 "nbformat_minor": 5
}
